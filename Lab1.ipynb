{
 "cells": [
  {
   "cell_type": "markdown",
   "metadata": {},
   "source": [
    "# In Class Lab 1\n",
    "\n",
    "## Part A:  The Local Standard of Rest\n",
    "Proper motion of Sgr A* from Reid & Brunthaler 2004\n",
    "$\\mu = 6.379$ mas/yr \n",
    "\n",
    "Peculiar motion of the sun, $v_\\odot$ = 12.24 km/s  (Schonrich 2010)\n",
    "\n",
    "\n",
    "$v_{tan} = 4.74 \\frac{\\mu}{\\rm mas/yr} \\frac{R_o}{\\rm kpc} = V_{LSR} + v_\\odot$\n",
    "\n",
    "\n",
    "### a)\n",
    "\n",
    "Create a function called VLSR to compute the local standard of res (V$_{LSR}$).\n",
    "\n",
    "The function should take as input: the solar radius (R$_o$), the proper motion (mu)\n",
    "and the peculiar motion of the sun in the $v_\\odot$ direction.\n",
    "\n",
    "Compute V$_{LSR}$ using three different values R$_o$: \n",
    "1. Water Maser Distance for the Sun :  R$_o$ = 8.34 kpc   (Reid 2014 ApJ 783) \n",
    "2. GRAVITY Collaboration Distance for the Sun:  R$_o$ = 8.178 kpc   (Abuter+2019 A&A 625)\n",
    "3. Value for Distance to Sun listed in Sparke & Gallagher : R$_o$ = 7.9 kpc \n"
   ]
  },
  {
   "cell_type": "code",
   "execution_count": 6,
   "metadata": {},
   "outputs": [],
   "source": [
    "import numpy as np"
   ]
  },
  {
   "cell_type": "code",
   "execution_count": 7,
   "metadata": {},
   "outputs": [],
   "source": [
    "#Function to compute local standard of rest velocity\n",
    "\n",
    "#4.74*mu*Ro = VLSR + vsun\n",
    "#Function will use below equation\n",
    "\n",
    "#VLSR = 4.74*mu*Ro - vsun\n",
    "\n",
    "def VLSR(Ro, mu=6.379, vsun=12.24):\n",
    "    #Inputs:\n",
    "    #Ro = distance from Sun to Galactic center (kpc)\n",
    "    #mu = proper motion of Sag A* (mas/yr): Default is from Reid & Brunthalar 2004\n",
    "    #vsun = peculiar motion of Sun in v direction (km/s): Default from Schonrich+2019\n",
    "    #Returns:\n",
    "    #VSLR = local standard of rest (km/s)\n",
    "    \n",
    "    return 4.74*mu*Ro - vsun"
   ]
  },
  {
   "cell_type": "code",
   "execution_count": 8,
   "metadata": {},
   "outputs": [],
   "source": [
    "RoReid = 8.34 #Distance(kpc) to Galactic center from Reid et al. 2014\n",
    "RoGravity = 8.178 #Distnace(kpc) to Galactic center from GRAVITY Collaboration Abuter + 2019\n",
    "RoSG = 7.9 #Distance(kpc) to Galactic center from textbook by Sparke & Gallagher"
   ]
  },
  {
   "cell_type": "code",
   "execution_count": 9,
   "metadata": {},
   "outputs": [
    {
     "name": "stdout",
     "output_type": "stream",
     "text": [
      "239.9320764\n"
     ]
    }
   ],
   "source": [
    "#Compute VLSR using Reid 2014 value for Ro\n",
    "VLSR_Reid = VLSR(RoReid)\n",
    "print(VLSR_Reid)"
   ]
  },
  {
   "cell_type": "code",
   "execution_count": 10,
   "metadata": {},
   "outputs": [
    {
     "name": "stdout",
     "output_type": "stream",
     "text": [
      "235.03376988000002\n"
     ]
    }
   ],
   "source": [
    "#Compute VLSR using GRAVITY value for Ro\n",
    "VLSR_Gravity = VLSR(RoGravity)\n",
    "print(VLSR_Gravity)"
   ]
  },
  {
   "cell_type": "code",
   "execution_count": 11,
   "metadata": {},
   "outputs": [
    {
     "name": "stdout",
     "output_type": "stream",
     "text": [
      "226.628034\n"
     ]
    }
   ],
   "source": [
    "#Compute VLSR using SG value for Ro\n",
    "VLSR_SG = VLSR(RoSG)\n",
    "print(VLSR_SG)"
   ]
  },
  {
   "cell_type": "markdown",
   "metadata": {},
   "source": [
    " b)\n",
    "\n",
    "compute the orbital period of the sun using R$_o$ from the GRAVITY Collaboration (assume circular orbit)\n",
    "\n",
    "Note that 1 km/s $\\sim$ 1kpc/Gyr"
   ]
  },
  {
   "cell_type": "code",
   "execution_count": 14,
   "metadata": {},
   "outputs": [
    {
     "name": "stdout",
     "output_type": "stream",
     "text": [
      "0.20780161788713317\n"
     ]
    }
   ],
   "source": [
    "#Orbital period of Sun, using Ro from GRAVITY collaboration\n",
    "#T = 2piR/V\n",
    "v_Tan = VLSR(RoGravity) + 12.24\n",
    "T_grav = (2*np.pi*RoGravity)/v_Tan\n",
    "print(T_grav)"
   ]
  },
  {
   "cell_type": "markdown",
   "metadata": {},
   "source": [
    "### c)\n",
    "\n",
    "Compute the number of rotations about the GC over the age of the universe (13.8 Gyr)"
   ]
  },
  {
   "cell_type": "code",
   "execution_count": null,
   "metadata": {},
   "outputs": [],
   "source": []
  },
  {
   "cell_type": "markdown",
   "metadata": {},
   "source": [
    "## Part B  Dark Matter Density Profiles\n",
    "\n",
    "### a)\n",
    "Try out Fitting Rotation Curves \n",
    "[here](http://wittman.physics.ucdavis.edu/Animations/RotationCurve/GalacticRotation.html)\n",
    "\n",
    "\n",
    "### b)\n",
    "\n",
    "In the Isothermal Sphere model, what is the mass enclosed within the solar radius (R$_o$) in units of $10^{10}$ M$_\\odot$? \n",
    "\n",
    "Recall that for the Isothermal sphere :\n",
    "$\\rho(r) = \\frac{V_{LSR}^2}{4\\pi G r^2}$\n",
    "\n",
    "Where $G$ = 4.4988e-6 kpc$^3$/Gyr$^2$/M$_\\odot$\n",
    "\n",
    "What about at 260 kpc (in units of 10$^{12}$ M$_\\odot$) ? "
   ]
  },
  {
   "cell_type": "code",
   "execution_count": 16,
   "metadata": {},
   "outputs": [],
   "source": [
    "#Gravitational Constant\n",
    "G = 4.4988e-6 # kpc^3/Gyr^2/Msun"
   ]
  },
  {
   "cell_type": "code",
   "execution_count": 17,
   "metadata": {},
   "outputs": [],
   "source": [
    "#compute  the mass enclosed within solar radius assuming Isothermal Sphere Model\n",
    "#density profile rho = VLSR^2/ (4*pi*G*R^2)\n",
    "#mass = Integrate rho dV\n",
    "#     Integrate rho 4*pi*r^2dr\n",
    "#     integrate VLSR^2/ (4*pi*G*r^2) * 4*pi*r^2 dr\n",
    "#     integrate VLSR^2/G dr\n",
    "#     VLSR^2/G * r\n",
    "\n",
    "def MassIso(r, VLSR=VLSR_Gravity):\n",
    "    #Inputs:\n",
    "    #VLSR = local standard of rest (km/s); Using default VSLR from GRAVITY collab.\n",
    "    #r = distance from Galctic center(kpc)\n",
    "    #Returns:\n",
    "    #Mass enclosed in Sun\n",
    "    return VLSR**2/G*r"
   ]
  },
  {
   "cell_type": "code",
   "execution_count": 18,
   "metadata": {},
   "outputs": [
    {
     "name": "stdout",
     "output_type": "stream",
     "text": [
      "10.04178579317132\n"
     ]
    }
   ],
   "source": [
    "#compute mass enclosed within Ro\n",
    "MIsoSolar = MassIso(RoGravity)\n",
    "print(MIsoSolar/1e10)"
   ]
  },
  {
   "cell_type": "code",
   "execution_count": null,
   "metadata": {},
   "outputs": [],
   "source": []
  },
  {
   "cell_type": "markdown",
   "metadata": {},
   "source": [
    "## c) \n",
    "\n",
    "The Leo I satellite is one of the fastest moving satellite galaxies we know. \n",
    "\n",
    "\n",
    "It is moving with 3D velocity of magnitude: Vtot = 196 km/s at a distance of 260 kpc (Sohn 2013 ApJ 768)\n",
    "\n",
    "If we assume that Leo I is moving at the escape speed:\n",
    "\n",
    "$v_{esc}^2 = 2|\\Phi| = 2 \\int G \\frac{\\rho(r)}{r}dV $ \n",
    "\n",
    "and assuming the Milky Way is well modeled by a Hernquist Sphere with a scale radius of $a$= 30 kpc, what is the minimum mass of the Milky Way (in units of $10^{12}$ M$_\\odot$) ?  \n",
    "\n",
    "How does this compare to estimates of the mass assuming the Isothermal Sphere model at 260 kpc (from your answer above)"
   ]
  },
  {
   "cell_type": "code",
   "execution_count": 19,
   "metadata": {},
   "outputs": [],
   "source": [
    "#potential for Hernquist Sphere\n",
    "# phi = -G*M/(r+a)\n",
    "# using Hernquist potential, the Eq. for escaoe speed is:\n",
    "#vesc^2 = 2*G*M/ (r+a)\n",
    "\n",
    "#rearranging escape Eq. for M\n",
    "# M = vesc^2/2/G*(r+a)\n",
    "#   = 196^2/2/G*(260+10)\n",
    "\n",
    "#function that will determine total halo mass needed to set a given escape at a given distance, assuming Hernquist profile dor DM halo\n",
    "\n",
    "def MassFromVesc(vesc,a,r):\n",
    "    #inputs:\n",
    "    # vesc = escape velocity in km/s\n",
    "    # r = distance from Galactic center (kpc)\n",
    "    # a = Hernquist scale length (kpc)\n",
    "    #returns:\n",
    "    # total mass in Msun\n",
    "    return vesc**2/2/G*(r+a)"
   ]
  },
  {
   "cell_type": "code",
   "execution_count": null,
   "metadata": {},
   "outputs": [],
   "source": [
    "#mass needed to keep Leo I bound, assuming Hernquist Profile\n",
    "MLeo"
   ]
  }
 ],
 "metadata": {
  "kernelspec": {
   "display_name": "Python 3",
   "language": "python",
   "name": "python3"
  },
  "language_info": {
   "codemirror_mode": {
    "name": "ipython",
    "version": 3
   },
   "file_extension": ".py",
   "mimetype": "text/x-python",
   "name": "python",
   "nbconvert_exporter": "python",
   "pygments_lexer": "ipython3",
   "version": "3.6.5"
  }
 },
 "nbformat": 4,
 "nbformat_minor": 2
}
