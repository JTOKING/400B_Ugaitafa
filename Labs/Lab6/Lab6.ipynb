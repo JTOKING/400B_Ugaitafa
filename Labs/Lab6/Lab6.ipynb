{
 "cells": [
  {
   "cell_type": "code",
   "execution_count": 42,
   "metadata": {},
   "outputs": [],
   "source": [
    "# In Class Lab 6\n",
    "# Surface Brightness Profiles\n"
   ]
  },
  {
   "cell_type": "code",
   "execution_count": 43,
   "metadata": {},
   "outputs": [],
   "source": [
    "# Load Modules\n",
    "import numpy as np\n",
    "import astropy.units as u\n",
    "\n",
    "# import plotting modules\n",
    "import matplotlib.pyplot as plt\n",
    "import matplotlib\n",
    "%matplotlib inline\n",
    "\n",
    "# my modules\n",
    "from ReadFile import Read\n",
    "from CenterOfMass import CenterOfMass\n",
    "from MassProfile import MassProfile"
   ]
  },
  {
   "cell_type": "markdown",
   "metadata": {},
   "source": [
    "# Lab 6: Sersic Profiles\n",
    "\n",
    "In this lab we will use Homework 5 solutions to compute the mass profile of the Milky Way's bulge. \n",
    "We will turn the mass profile into a density profile and see if we can fit it reasonably well \n",
    "with a sersic profile. "
   ]
  },
  {
   "cell_type": "markdown",
   "metadata": {},
   "source": [
    "# Part A : \n",
    "\n",
    "Create a function called `SersicE` that returns the Sersic Profile in terms of the effective radius $R_e$ (i.e. the half light radius).\n",
    "\n",
    "$I(r) = I_e exp^{-7.67 ( (r/R_e)^{1/n} - 1)}$\n",
    "\n",
    "Where \n",
    "\n",
    "$ L = 7.2 I_e \\pi R_e^2$\n",
    "\n",
    "and  $R_e$ is the half light radius.  We will assume a mass to light ratio for the stellar bulge of 1, so this is also the half mass radius.\n",
    "\n",
    "The function should take as input: the radius, $R_e$, $n$ and the total stellar mass of the system.\n"
   ]
  },
  {
   "cell_type": "code",
   "execution_count": 44,
   "metadata": {},
   "outputs": [],
   "source": [
    "# Function that returns the Sersic Profile for an elliptical system (Re)\n",
    "def SersicE(R, Re, n, Mtot):\n",
    "# Inputs:\n",
    "    # R = array of radii (kpc)\n",
    "    # Re = half light radius (kpc)\n",
    "    # n = the Sersic index\n",
    "    # Mtot = total stellar mass (Msun)\n",
    "# Return:\n",
    "    # Surface brightness profile in Lsun/kpc^2\n",
    "    \n",
    "    # Assuming M/L = 1\n",
    "    L = Mtot # total luminosity = total stellar mass\n",
    "    \n",
    "    # Ie= L/(7.2*pi*Re^2)\n",
    "    Ie = L/7.2/np.pi/Re**2\n",
    "    \n",
    "    # exponent\n",
    "    A = (R/Re)**(1/n) - 1\n",
    "    \n",
    "    return Ie*np.exp(-7.6*A)"
   ]
  },
  {
   "cell_type": "markdown",
   "metadata": {},
   "source": [
    "# Part B\n",
    "\n",
    "a) Create an instance of the MassProfile Class for the MW. Store it as a variable `MW`. \n"
   ]
  },
  {
   "cell_type": "code",
   "execution_count": 45,
   "metadata": {},
   "outputs": [],
   "source": [
    "M31 = MassProfile(\"M31\",0)"
   ]
  },
  {
   "cell_type": "markdown",
   "metadata": {},
   "source": [
    "b) Create an array of radii from 0.1 kpc to 30 kpc in increments of 0.1\n"
   ]
  },
  {
   "cell_type": "code",
   "execution_count": 46,
   "metadata": {},
   "outputs": [],
   "source": [
    "R = np.arange(0.1, 30, 0.1)"
   ]
  },
  {
   "cell_type": "markdown",
   "metadata": {},
   "source": [
    "c) Define a new array called `BulgeMass`, that uses the function `MassEnclosed` within MassProfile to compute the mass profile of the bulge.  Get rid of astropy units in `BulgeMass` by adding `.value` \n"
   ]
  },
  {
   "cell_type": "code",
   "execution_count": 47,
   "metadata": {},
   "outputs": [],
   "source": [
    "BulgeMass = M31.MassEnclosed(3,R) # particle type 3 = bulge"
   ]
  },
  {
   "cell_type": "code",
   "execution_count": 48,
   "metadata": {},
   "outputs": [
    {
     "data": {
      "text/latex": [
       "$4.438643 \\times 10^{9} \\; \\mathrm{M_{\\odot}}$"
      ],
      "text/plain": [
       "<Quantity 4.43864301e+09 solMass>"
      ]
     },
     "execution_count": 48,
     "metadata": {},
     "output_type": "execute_result"
    }
   ],
   "source": [
    "BulgeMass[10]"
   ]
  },
  {
   "cell_type": "code",
   "execution_count": 19,
   "metadata": {},
   "outputs": [
    {
     "ename": "SyntaxError",
     "evalue": "invalid syntax (<ipython-input-19-91640ceceb02>, line 1)",
     "output_type": "error",
     "traceback": [
      "\u001b[0;36m  File \u001b[0;32m\"<ipython-input-19-91640ceceb02>\"\u001b[0;36m, line \u001b[0;32m1\u001b[0m\n\u001b[0;31m    d) Compute the surface mass density profile for the simulated bulge and store it as an array called `BulgeI`. Assuming M/L ~ 1 this is also the surface brightness profile in Lsun/kpc^2\u001b[0m\n\u001b[0m     ^\u001b[0m\n\u001b[0;31mSyntaxError\u001b[0m\u001b[0;31m:\u001b[0m invalid syntax\n"
     ]
    }
   ],
   "source": [
    "d) Compute the surface mass density profile for the simulated bulge and store it as an array called `BulgeI`. Assuming M/L ~ 1 this is also the surface brightness profile in Lsun/kpc^2"
   ]
  },
  {
   "cell_type": "code",
   "execution_count": 49,
   "metadata": {},
   "outputs": [
    {
     "data": {
      "text/latex": [
       "$[55850732,~79786760,~1.179071 \\times 10^{8},~\\dots,~1608687.9,~1598268.9,~1587863.7] \\; \\mathrm{M_{\\odot}}$"
      ],
      "text/plain": [
       "<Quantity [5.58507322e+07, 7.97867603e+07, 1.17907101e+08, 1.62565524e+08,\n",
       "           2.11594488e+08, 2.56204153e+08, 2.93745542e+08, 3.17401706e+08,\n",
       "           3.17768011e+08, 3.11248152e+08, 2.91914040e+08, 2.75984620e+08,\n",
       "           2.60227587e+08, 2.42698298e+08, 2.26417095e+08, 2.11247915e+08,\n",
       "           1.96595682e+08, 1.83854306e+08, 1.72569259e+08, 1.61967123e+08,\n",
       "           1.51938597e+08, 1.42775440e+08, 1.34325309e+08, 1.26786149e+08,\n",
       "           1.19973756e+08, 1.13825964e+08, 1.08111607e+08, 1.02969699e+08,\n",
       "           9.77364096e+07, 9.29781713e+07, 8.84462391e+07, 8.43293073e+07,\n",
       "           8.06073404e+07, 7.69638550e+07, 7.34168459e+07, 7.03305517e+07,\n",
       "           6.72913027e+07, 6.44703545e+07, 6.17678568e+07, 5.93015096e+07,\n",
       "           5.69139228e+07, 5.47742442e+07, 5.26963719e+07, 5.06786049e+07,\n",
       "           4.88097969e+07, 4.70613684e+07, 4.53979081e+07, 4.38273107e+07,\n",
       "           4.23757088e+07, 4.09593313e+07, 3.95774234e+07, 3.83059069e+07,\n",
       "           3.70785464e+07, 3.59532932e+07, 3.48793427e+07, 3.38025159e+07,\n",
       "           3.27717549e+07, 3.18198328e+07, 3.09291164e+07, 3.00286338e+07,\n",
       "           2.92108314e+07, 2.84152120e+07, 2.76308647e+07, 2.68715420e+07,\n",
       "           2.61568383e+07, 2.54691208e+07, 2.48176105e+07, 2.41862245e+07,\n",
       "           2.36025359e+07, 2.30258077e+07, 2.24514024e+07, 2.19275072e+07,\n",
       "           2.14057293e+07, 2.08995853e+07, 2.04069710e+07, 1.99328766e+07,\n",
       "           1.94790581e+07, 1.90523020e+07, 1.86190415e+07, 1.82175614e+07,\n",
       "           1.78325416e+07, 1.74524639e+07, 1.70773085e+07, 1.67183567e+07,\n",
       "           1.63659486e+07, 1.60210002e+07, 1.56980372e+07, 1.53875938e+07,\n",
       "           1.50840391e+07, 1.47940414e+07, 1.45063333e+07, 1.42256853e+07,\n",
       "           1.39463087e+07, 1.36963058e+07, 1.34351180e+07, 1.31835155e+07,\n",
       "           1.29359871e+07, 1.26990881e+07, 1.24690726e+07, 1.22608315e+07,\n",
       "           1.20458376e+07, 1.18430117e+07, 1.16412410e+07, 1.14398399e+07,\n",
       "           1.12461338e+07, 1.10605071e+07, 1.08847009e+07, 1.07045869e+07,\n",
       "           1.05392931e+07, 1.03729382e+07, 1.02134306e+07, 1.00483995e+07,\n",
       "           9.89008413e+06, 9.73575288e+06, 9.57742775e+06, 9.42842803e+06,\n",
       "           9.28193555e+06, 9.14132568e+06, 9.00016742e+06, 8.86574966e+06,\n",
       "           8.73234784e+06, 8.59889426e+06, 8.46755386e+06, 8.34190920e+06,\n",
       "           8.22020651e+06, 8.09929094e+06, 7.97867603e+06, 7.86715767e+06,\n",
       "           7.75380979e+06, 7.64914255e+06, 7.54303595e+06, 7.43833870e+06,\n",
       "           7.33412133e+06, 7.22995309e+06, 7.13199513e+06, 7.03698865e+06,\n",
       "           6.94143539e+06, 6.85083546e+06, 6.76252775e+06, 6.67359259e+06,\n",
       "           6.58930042e+06, 6.50789946e+06, 6.42344093e+06, 6.33915353e+06,\n",
       "           6.25846968e+06, 6.18051692e+06, 6.10409885e+06, 6.02917484e+06,\n",
       "           5.95354926e+06, 5.88081615e+06, 5.80773151e+06, 5.74054413e+06,\n",
       "           5.67018046e+06, 5.60250008e+06, 5.53476024e+06, 5.47025845e+06,\n",
       "           5.40629831e+06, 5.34159640e+06, 5.28029859e+06, 5.22135779e+06,\n",
       "           5.16285379e+06, 5.10235177e+06, 5.04324157e+06, 4.98518927e+06,\n",
       "           4.93110020e+06, 4.87389511e+06, 4.81798856e+06, 4.76419456e+06,\n",
       "           4.71161199e+06, 4.65938115e+06, 4.60804626e+06, 4.55785644e+06,\n",
       "           4.50878237e+06, 4.46000506e+06, 4.41204501e+06, 4.36539906e+06,\n",
       "           4.31926795e+06, 4.27288773e+06, 4.22727144e+06, 4.18240227e+06,\n",
       "           4.13850743e+06, 4.09869434e+06, 4.05688123e+06, 4.01549684e+06,\n",
       "           3.97406838e+06, 3.93283508e+06, 3.89385127e+06, 3.85592364e+06,\n",
       "           3.81768513e+06, 3.78069895e+06, 3.74274507e+06, 3.70602402e+06,\n",
       "           3.67071790e+06, 3.63382096e+06, 3.59853501e+06, 3.56336278e+06,\n",
       "           3.53036215e+06, 3.49764122e+06, 3.46519656e+06, 3.43302483e+06,\n",
       "           3.40053025e+06, 3.36850926e+06, 3.33656541e+06, 3.30450932e+06,\n",
       "           3.27291841e+06, 3.24309979e+06, 3.21333082e+06, 3.18361419e+06,\n",
       "           3.15431781e+06, 3.12543375e+06, 3.09731268e+06, 3.06958186e+06,\n",
       "           3.04276164e+06, 3.01648172e+06, 2.98952231e+06, 2.96395775e+06,\n",
       "           2.93839750e+06, 2.91267676e+06, 2.88696949e+06, 2.86193790e+06,\n",
       "           2.83691341e+06, 2.81303211e+06, 2.78946412e+06, 2.76524984e+06,\n",
       "           2.74182769e+06, 2.71808605e+06, 2.69511993e+06, 2.67229779e+06,\n",
       "           2.65129209e+06, 2.62964493e+06, 2.60797338e+06, 2.58731814e+06,\n",
       "           2.56603886e+06, 2.54531947e+06, 2.52485907e+06, 2.50408031e+06,\n",
       "           2.48398775e+06, 2.46400289e+06, 2.44384580e+06, 2.42532359e+06,\n",
       "           2.40592504e+06, 2.38730859e+06, 2.36810574e+06, 2.34940489e+06,\n",
       "           2.33106275e+06, 2.31254507e+06, 2.29490414e+06, 2.27695307e+06,\n",
       "           2.25960182e+06, 2.24271009e+06, 2.22588864e+06, 2.20913739e+06,\n",
       "           2.19208231e+06, 2.17559782e+06, 2.15905857e+06, 2.14258910e+06,\n",
       "           2.12631010e+06, 2.11033847e+06, 2.09454965e+06, 2.07953096e+06,\n",
       "           2.06409489e+06, 2.04871720e+06, 2.03339792e+06, 2.01859496e+06,\n",
       "           2.00384349e+06, 1.98903085e+06, 1.97471924e+06, 1.96067654e+06,\n",
       "           1.94667743e+06, 1.93294098e+06, 1.91913661e+06, 1.90580616e+06,\n",
       "           1.89240505e+06, 1.87872336e+06, 1.86519026e+06, 1.85232732e+06,\n",
       "           1.83928921e+06, 1.82608071e+06, 1.81311648e+06, 1.80059585e+06,\n",
       "           1.78840930e+06, 1.77635002e+06, 1.76441623e+06, 1.75280401e+06,\n",
       "           1.74101636e+06, 1.72905779e+06, 1.71761079e+06, 1.70579984e+06,\n",
       "           1.69477965e+06, 1.68377577e+06, 1.67278863e+06, 1.66181868e+06,\n",
       "           1.65095925e+06, 1.64020888e+06, 1.62974944e+06, 1.61957580e+06,\n",
       "           1.60868793e+06, 1.59826886e+06, 1.58786371e+06] solMass>"
      ]
     },
     "execution_count": 49,
     "metadata": {},
     "output_type": "execute_result"
    }
   ],
   "source": [
    "BulgeI = BulgeMass/4/np.pi/R**2\n",
    "BulgeI"
   ]
  },
  {
   "cell_type": "markdown",
   "metadata": {},
   "source": [
    "# Part C\n",
    "\n",
    "Compute $R_e$, the half mass radius, for the bulge"
   ]
  },
  {
   "cell_type": "code",
   "execution_count": 50,
   "metadata": {},
   "outputs": [
    {
     "data": {
      "text/latex": [
       "$1.7838793 \\times 10^{10} \\; \\mathrm{M_{\\odot}}$"
      ],
      "text/plain": [
       "<Quantity 1.7838793e+10 solMass>"
      ]
     },
     "execution_count": 50,
     "metadata": {},
     "output_type": "execute_result"
    }
   ],
   "source": [
    "BulgeTotal = np.max(BulgeMass) # Total mass of the bulge\n",
    "BulgeTotal"
   ]
  },
  {
   "cell_type": "code",
   "execution_count": 51,
   "metadata": {},
   "outputs": [],
   "source": [
    "Low = BulgeTotal/2\n",
    "High = BulgeTotal/2 + BulgeTotal/2*0.01"
   ]
  },
  {
   "cell_type": "code",
   "execution_count": 52,
   "metadata": {},
   "outputs": [],
   "source": [
    "index = np.where( (BulgeMass > Low) & (BulgeMass < High))"
   ]
  },
  {
   "cell_type": "code",
   "execution_count": 53,
   "metadata": {},
   "outputs": [],
   "source": [
    "Re = R[index]"
   ]
  },
  {
   "cell_type": "code",
   "execution_count": 54,
   "metadata": {},
   "outputs": [
    {
     "data": {
      "text/latex": [
       "$8.9193965 \\times 10^{9} \\; \\mathrm{M_{\\odot}}$"
      ],
      "text/plain": [
       "<Quantity 8.91939648e+09 solMass>"
      ]
     },
     "execution_count": 54,
     "metadata": {},
     "output_type": "execute_result"
    }
   ],
   "source": [
    "BulgeTotal/2"
   ]
  },
  {
   "cell_type": "code",
   "execution_count": 55,
   "metadata": {},
   "outputs": [
    {
     "data": {
      "text/plain": [
       "array([2.3])"
      ]
     },
     "execution_count": 55,
     "metadata": {},
     "output_type": "execute_result"
    }
   ],
   "source": [
    "Re"
   ]
  },
  {
   "cell_type": "markdown",
   "metadata": {},
   "source": [
    "# Part D\n",
    "\n",
    "a) Plot the surface density profile of the simulated bulge\n",
    "\n",
    "b) Plot the Sersic profile, assuming a de Vaucouleurs Profile.\n",
    "\n",
    "c) If the profiles don't match, try changing either $R_e$ or $n$"
   ]
  },
  {
   "cell_type": "code",
   "execution_count": 59,
   "metadata": {},
   "outputs": [
    {
     "data": {
      "image/png": "[encoded data removed]",
      "text/plain": [
       "<Figure size 720x720 with 1 Axes>"
      ]
     },
     "metadata": {
      "needs_background": "light"
     },
     "output_type": "display_data"
    }
   ],
   "source": [
    "# Plot the Bulge density profile vs \n",
    "# the Sersic profile\n",
    "####################################\n",
    "\n",
    "\n",
    "fig = plt.figure(figsize=(10,10))\n",
    "ax = plt.subplot(111)\n",
    "\n",
    "\n",
    "# plot the bulge luminosity density as a proxy for surface brighntess\n",
    "plt.semilogy(R,BulgeI, color='black',linewidth=3, label='Bulge Density')\n",
    "\n",
    "\n",
    "# YOU ADD HERE: Sersic fit to the surface brightness Sersic fit\n",
    "# Sersic \n",
    "plt.semilogy(R,SersicE(R, Re, 5.45, BulgeTotal), color='red', linewidth=3, linestyle='-.', label='Sersic n=5.45')\n",
    "\n",
    "\n",
    "#adjust tick label font size\n",
    "label_size = 22\n",
    "matplotlib.rcParams['xtick.labelsize'] = label_size \n",
    "matplotlib.rcParams['ytick.labelsize'] = label_size\n",
    "\n",
    "\n",
    "# Add axis labels\n",
    "plt.xlabel('Radius (kpc)', fontsize=22)\n",
    "plt.ylabel('Log(I)  $L_\\odot/kpc^2$', fontsize=22)\n",
    "\n",
    "\n",
    "\n",
    "# add a legend with some customizations.\n",
    "legend = ax.legend(loc='upper right',fontsize='x-large')\n"
   ]
  },
  {
   "cell_type": "code",
   "execution_count": null,
   "metadata": {},
   "outputs": [],
   "source": []
  }
 ],
 "metadata": {
  "kernelspec": {
   "display_name": "Python 3",
   "language": "python",
   "name": "python3"
  },
  "language_info": {
   "codemirror_mode": {
    "name": "ipython",
    "version": 3
   },
   "file_extension": ".py",
   "mimetype": "text/x-python",
   "name": "python",
   "nbconvert_exporter": "python",
   "pygments_lexer": "ipython3",
   "version": "3.7.4"
  }
 },
 "nbformat": 4,
 "nbformat_minor": 2
}
